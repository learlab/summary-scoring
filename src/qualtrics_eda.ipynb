{
 "cells": [
  {
   "cell_type": "code",
   "execution_count": 15,
   "id": "d0a5d750-1d77-45a2-a1da-e67e7162bde8",
   "metadata": {
    "tags": []
   },
   "outputs": [],
   "source": [
    "import pandas as pd\n",
    "from matplotlib import pyplot as plt\n",
    "import seaborn as sns"
   ]
  },
  {
   "cell_type": "code",
   "execution_count": 40,
   "id": "ea703516-b713-4d9d-b3cc-206b5eaee339",
   "metadata": {
    "tags": []
   },
   "outputs": [
    {
     "name": "stdout",
     "output_type": "stream",
     "text": [
      "123\n"
     ]
    },
    {
     "data": {
      "text/html": [
       "<div>\n",
       "<style scoped>\n",
       "    .dataframe tbody tr th:only-of-type {\n",
       "        vertical-align: middle;\n",
       "    }\n",
       "\n",
       "    .dataframe tbody tr th {\n",
       "        vertical-align: top;\n",
       "    }\n",
       "\n",
       "    .dataframe thead th {\n",
       "        text-align: right;\n",
       "    }\n",
       "</style>\n",
       "<table border=\"1\" class=\"dataframe\">\n",
       "  <thead>\n",
       "    <tr style=\"text-align: right;\">\n",
       "      <th></th>\n",
       "      <th>content</th>\n",
       "      <th>wording</th>\n",
       "      <th>containment</th>\n",
       "      <th>similarity</th>\n",
       "      <th>word_count</th>\n",
       "    </tr>\n",
       "  </thead>\n",
       "  <tbody>\n",
       "    <tr>\n",
       "      <th>count</th>\n",
       "      <td>113.000000</td>\n",
       "      <td>113.000000</td>\n",
       "      <td>113.000000</td>\n",
       "      <td>113.000000</td>\n",
       "      <td>113.000000</td>\n",
       "    </tr>\n",
       "    <tr>\n",
       "      <th>mean</th>\n",
       "      <td>0.436176</td>\n",
       "      <td>0.243741</td>\n",
       "      <td>0.077667</td>\n",
       "      <td>0.656659</td>\n",
       "      <td>151.681416</td>\n",
       "    </tr>\n",
       "    <tr>\n",
       "      <th>std</th>\n",
       "      <td>0.401471</td>\n",
       "      <td>0.568215</td>\n",
       "      <td>0.118257</td>\n",
       "      <td>0.117652</td>\n",
       "      <td>179.806556</td>\n",
       "    </tr>\n",
       "    <tr>\n",
       "      <th>min</th>\n",
       "      <td>-0.637625</td>\n",
       "      <td>-1.617876</td>\n",
       "      <td>0.000000</td>\n",
       "      <td>0.383170</td>\n",
       "      <td>23.000000</td>\n",
       "    </tr>\n",
       "    <tr>\n",
       "      <th>25%</th>\n",
       "      <td>0.191209</td>\n",
       "      <td>-0.069949</td>\n",
       "      <td>0.000000</td>\n",
       "      <td>0.575273</td>\n",
       "      <td>80.000000</td>\n",
       "    </tr>\n",
       "    <tr>\n",
       "      <th>50%</th>\n",
       "      <td>0.502882</td>\n",
       "      <td>0.356305</td>\n",
       "      <td>0.031500</td>\n",
       "      <td>0.636095</td>\n",
       "      <td>121.000000</td>\n",
       "    </tr>\n",
       "    <tr>\n",
       "      <th>75%</th>\n",
       "      <td>0.741706</td>\n",
       "      <td>0.669857</td>\n",
       "      <td>0.090900</td>\n",
       "      <td>0.740580</td>\n",
       "      <td>172.000000</td>\n",
       "    </tr>\n",
       "    <tr>\n",
       "      <th>max</th>\n",
       "      <td>1.200112</td>\n",
       "      <td>1.181120</td>\n",
       "      <td>0.583300</td>\n",
       "      <td>0.887099</td>\n",
       "      <td>1836.000000</td>\n",
       "    </tr>\n",
       "  </tbody>\n",
       "</table>\n",
       "</div>"
      ],
      "text/plain": [
       "          content     wording  containment  similarity   word_count\n",
       "count  113.000000  113.000000   113.000000  113.000000   113.000000\n",
       "mean     0.436176    0.243741     0.077667    0.656659   151.681416\n",
       "std      0.401471    0.568215     0.118257    0.117652   179.806556\n",
       "min     -0.637625   -1.617876     0.000000    0.383170    23.000000\n",
       "25%      0.191209   -0.069949     0.000000    0.575273    80.000000\n",
       "50%      0.502882    0.356305     0.031500    0.636095   121.000000\n",
       "75%      0.741706    0.669857     0.090900    0.740580   172.000000\n",
       "max      1.200112    1.181120     0.583300    0.887099  1836.000000"
      ]
     },
     "execution_count": 40,
     "metadata": {},
     "output_type": "execute_result"
    }
   ],
   "source": [
    "\n",
    "final_df = pd.read_csv('../data/qualtrics_survey.csv')[['id', 'content', 'wording', 'containment', 'similarity','word_count']]\n",
    "print(len(final_df))\n",
    "\n",
    "final_df = final_df[final_df['containment'] < 0.6]\n",
    "final_df.describe()"
   ]
  },
  {
   "cell_type": "code",
   "execution_count": 41,
   "id": "a1464a61-dc75-4aa9-aaee-6cc2f43bb11f",
   "metadata": {
    "tags": []
   },
   "outputs": [
    {
     "data": {
      "text/html": [
       "<div>\n",
       "<style scoped>\n",
       "    .dataframe tbody tr th:only-of-type {\n",
       "        vertical-align: middle;\n",
       "    }\n",
       "\n",
       "    .dataframe tbody tr th {\n",
       "        vertical-align: top;\n",
       "    }\n",
       "\n",
       "    .dataframe thead th {\n",
       "        text-align: right;\n",
       "    }\n",
       "</style>\n",
       "<table border=\"1\" class=\"dataframe\">\n",
       "  <thead>\n",
       "    <tr style=\"text-align: right;\">\n",
       "      <th></th>\n",
       "      <th>id</th>\n",
       "      <th>content</th>\n",
       "      <th>wording</th>\n",
       "      <th>containment</th>\n",
       "      <th>similarity</th>\n",
       "      <th>word_count</th>\n",
       "    </tr>\n",
       "  </thead>\n",
       "  <tbody>\n",
       "    <tr>\n",
       "      <th>1</th>\n",
       "      <td>5a61207cc0d8360001078f071</td>\n",
       "      <td>0.696166</td>\n",
       "      <td>0.666189</td>\n",
       "      <td>0.0237</td>\n",
       "      <td>0.782728</td>\n",
       "      <td>394</td>\n",
       "    </tr>\n",
       "    <tr>\n",
       "      <th>3</th>\n",
       "      <td>5ae59f8cc3c3ab00018f71851</td>\n",
       "      <td>0.454392</td>\n",
       "      <td>-0.025304</td>\n",
       "      <td>0.3812</td>\n",
       "      <td>0.848717</td>\n",
       "      <td>334</td>\n",
       "    </tr>\n",
       "    <tr>\n",
       "      <th>16</th>\n",
       "      <td>611101548d78ab5ec3a9c42e1</td>\n",
       "      <td>0.201419</td>\n",
       "      <td>-0.275674</td>\n",
       "      <td>0.0680</td>\n",
       "      <td>0.864317</td>\n",
       "      <td>1836</td>\n",
       "    </tr>\n",
       "    <tr>\n",
       "      <th>75</th>\n",
       "      <td>611101548d78ab5ec3a9c42e3</td>\n",
       "      <td>0.321494</td>\n",
       "      <td>-0.638638</td>\n",
       "      <td>0.1138</td>\n",
       "      <td>0.887099</td>\n",
       "      <td>587</td>\n",
       "    </tr>\n",
       "    <tr>\n",
       "      <th>99</th>\n",
       "      <td>5ecda7f6509c241275db73964</td>\n",
       "      <td>0.697332</td>\n",
       "      <td>0.512590</td>\n",
       "      <td>0.0319</td>\n",
       "      <td>0.618519</td>\n",
       "      <td>319</td>\n",
       "    </tr>\n",
       "    <tr>\n",
       "      <th>102</th>\n",
       "      <td>5faefcc22be93b11829e84df4</td>\n",
       "      <td>0.787475</td>\n",
       "      <td>0.173251</td>\n",
       "      <td>0.4821</td>\n",
       "      <td>0.862842</td>\n",
       "      <td>326</td>\n",
       "    </tr>\n",
       "  </tbody>\n",
       "</table>\n",
       "</div>"
      ],
      "text/plain": [
       "                            id   content   wording  containment  similarity  \\\n",
       "1    5a61207cc0d8360001078f071  0.696166  0.666189       0.0237    0.782728   \n",
       "3    5ae59f8cc3c3ab00018f71851  0.454392 -0.025304       0.3812    0.848717   \n",
       "16   611101548d78ab5ec3a9c42e1  0.201419 -0.275674       0.0680    0.864317   \n",
       "75   611101548d78ab5ec3a9c42e3  0.321494 -0.638638       0.1138    0.887099   \n",
       "99   5ecda7f6509c241275db73964  0.697332  0.512590       0.0319    0.618519   \n",
       "102  5faefcc22be93b11829e84df4  0.787475  0.173251       0.4821    0.862842   \n",
       "\n",
       "     word_count  \n",
       "1           394  \n",
       "3           334  \n",
       "16         1836  \n",
       "75          587  \n",
       "99          319  \n",
       "102         326  "
      ]
     },
     "execution_count": 41,
     "metadata": {},
     "output_type": "execute_result"
    }
   ],
   "source": [
    "final_df[final_df['word_count'] > 300]"
   ]
  },
  {
   "cell_type": "code",
   "execution_count": 42,
   "id": "c9f4b1e0-cbdd-4810-8463-53954cd1d584",
   "metadata": {
    "tags": []
   },
   "outputs": [
    {
     "data": {
      "text/html": [
       "<div>\n",
       "<style scoped>\n",
       "    .dataframe tbody tr th:only-of-type {\n",
       "        vertical-align: middle;\n",
       "    }\n",
       "\n",
       "    .dataframe tbody tr th {\n",
       "        vertical-align: top;\n",
       "    }\n",
       "\n",
       "    .dataframe thead th {\n",
       "        text-align: right;\n",
       "    }\n",
       "</style>\n",
       "<table border=\"1\" class=\"dataframe\">\n",
       "  <thead>\n",
       "    <tr style=\"text-align: right;\">\n",
       "      <th></th>\n",
       "      <th>id</th>\n",
       "      <th>content</th>\n",
       "      <th>wording</th>\n",
       "      <th>containment</th>\n",
       "      <th>similarity</th>\n",
       "      <th>word_count</th>\n",
       "    </tr>\n",
       "  </thead>\n",
       "  <tbody>\n",
       "    <tr>\n",
       "      <th>13</th>\n",
       "      <td>60109ec41bb0de422378c3011</td>\n",
       "      <td>-0.066921</td>\n",
       "      <td>0.757453</td>\n",
       "      <td>0.0000</td>\n",
       "      <td>0.471875</td>\n",
       "      <td>43</td>\n",
       "    </tr>\n",
       "    <tr>\n",
       "      <th>34</th>\n",
       "      <td>5ae59f8cc3c3ab00018f71852</td>\n",
       "      <td>0.857790</td>\n",
       "      <td>0.468952</td>\n",
       "      <td>0.0357</td>\n",
       "      <td>0.684513</td>\n",
       "      <td>46</td>\n",
       "    </tr>\n",
       "    <tr>\n",
       "      <th>38</th>\n",
       "      <td>5dbb9407e0a6e81863526af72</td>\n",
       "      <td>0.812902</td>\n",
       "      <td>0.885901</td>\n",
       "      <td>0.0000</td>\n",
       "      <td>0.577132</td>\n",
       "      <td>47</td>\n",
       "    </tr>\n",
       "    <tr>\n",
       "      <th>44</th>\n",
       "      <td>60109ec41bb0de422378c3012</td>\n",
       "      <td>-0.174423</td>\n",
       "      <td>0.051151</td>\n",
       "      <td>0.0000</td>\n",
       "      <td>0.565485</td>\n",
       "      <td>30</td>\n",
       "    </tr>\n",
       "    <tr>\n",
       "      <th>56</th>\n",
       "      <td>636a3e0221fc09ace967b1222</td>\n",
       "      <td>-0.371187</td>\n",
       "      <td>0.483440</td>\n",
       "      <td>0.0000</td>\n",
       "      <td>0.460204</td>\n",
       "      <td>48</td>\n",
       "    </tr>\n",
       "    <tr>\n",
       "      <th>88</th>\n",
       "      <td>63bd61cff50297c9332e3f393</td>\n",
       "      <td>-0.086869</td>\n",
       "      <td>-0.028486</td>\n",
       "      <td>0.0000</td>\n",
       "      <td>0.467505</td>\n",
       "      <td>40</td>\n",
       "    </tr>\n",
       "    <tr>\n",
       "      <th>90</th>\n",
       "      <td>63cbfaf6ab54f6b8d8a054d73</td>\n",
       "      <td>0.203609</td>\n",
       "      <td>0.488507</td>\n",
       "      <td>0.0476</td>\n",
       "      <td>0.612131</td>\n",
       "      <td>34</td>\n",
       "    </tr>\n",
       "    <tr>\n",
       "      <th>103</th>\n",
       "      <td>60bea11ea6e2371d747c5d1d4</td>\n",
       "      <td>-0.367212</td>\n",
       "      <td>-0.626372</td>\n",
       "      <td>0.0000</td>\n",
       "      <td>0.383170</td>\n",
       "      <td>38</td>\n",
       "    </tr>\n",
       "    <tr>\n",
       "      <th>116</th>\n",
       "      <td>63bd61cff50297c9332e3f394</td>\n",
       "      <td>-0.637625</td>\n",
       "      <td>-1.617876</td>\n",
       "      <td>0.0769</td>\n",
       "      <td>0.455525</td>\n",
       "      <td>23</td>\n",
       "    </tr>\n",
       "  </tbody>\n",
       "</table>\n",
       "</div>"
      ],
      "text/plain": [
       "                            id   content   wording  containment  similarity  \\\n",
       "13   60109ec41bb0de422378c3011 -0.066921  0.757453       0.0000    0.471875   \n",
       "34   5ae59f8cc3c3ab00018f71852  0.857790  0.468952       0.0357    0.684513   \n",
       "38   5dbb9407e0a6e81863526af72  0.812902  0.885901       0.0000    0.577132   \n",
       "44   60109ec41bb0de422378c3012 -0.174423  0.051151       0.0000    0.565485   \n",
       "56   636a3e0221fc09ace967b1222 -0.371187  0.483440       0.0000    0.460204   \n",
       "88   63bd61cff50297c9332e3f393 -0.086869 -0.028486       0.0000    0.467505   \n",
       "90   63cbfaf6ab54f6b8d8a054d73  0.203609  0.488507       0.0476    0.612131   \n",
       "103  60bea11ea6e2371d747c5d1d4 -0.367212 -0.626372       0.0000    0.383170   \n",
       "116  63bd61cff50297c9332e3f394 -0.637625 -1.617876       0.0769    0.455525   \n",
       "\n",
       "     word_count  \n",
       "13           43  \n",
       "34           46  \n",
       "38           47  \n",
       "44           30  \n",
       "56           48  \n",
       "88           40  \n",
       "90           34  \n",
       "103          38  \n",
       "116          23  "
      ]
     },
     "execution_count": 42,
     "metadata": {},
     "output_type": "execute_result"
    }
   ],
   "source": [
    "final_df[final_df['word_count'] < 50]"
   ]
  },
  {
   "cell_type": "code",
   "execution_count": 43,
   "id": "7fa85876-272e-4fae-b383-701ca99b2f8e",
   "metadata": {
    "tags": []
   },
   "outputs": [],
   "source": [
    "final_df = final_df[final_df['word_count'] > 50]\n",
    "final_df = final_df[final_df['word_count'] < 300]"
   ]
  },
  {
   "cell_type": "code",
   "execution_count": 44,
   "id": "5700602a-ac49-419b-bd55-658c4229815d",
   "metadata": {
    "tags": []
   },
   "outputs": [
    {
     "name": "stderr",
     "output_type": "stream",
     "text": [
      "/tmp/ipykernel_1177/2626907977.py:1: FutureWarning: The default value of numeric_only in DataFrame.corr is deprecated. In a future version, it will default to False. Select only valid columns or specify the value of numeric_only to silence this warning.\n",
      "  final_df.corr()\n"
     ]
    },
    {
     "data": {
      "text/html": [
       "<div>\n",
       "<style scoped>\n",
       "    .dataframe tbody tr th:only-of-type {\n",
       "        vertical-align: middle;\n",
       "    }\n",
       "\n",
       "    .dataframe tbody tr th {\n",
       "        vertical-align: top;\n",
       "    }\n",
       "\n",
       "    .dataframe thead th {\n",
       "        text-align: right;\n",
       "    }\n",
       "</style>\n",
       "<table border=\"1\" class=\"dataframe\">\n",
       "  <thead>\n",
       "    <tr style=\"text-align: right;\">\n",
       "      <th></th>\n",
       "      <th>content</th>\n",
       "      <th>wording</th>\n",
       "      <th>containment</th>\n",
       "      <th>similarity</th>\n",
       "      <th>word_count</th>\n",
       "    </tr>\n",
       "  </thead>\n",
       "  <tbody>\n",
       "    <tr>\n",
       "      <th>content</th>\n",
       "      <td>1.000000</td>\n",
       "      <td>0.463403</td>\n",
       "      <td>0.157661</td>\n",
       "      <td>0.554366</td>\n",
       "      <td>0.250563</td>\n",
       "    </tr>\n",
       "    <tr>\n",
       "      <th>wording</th>\n",
       "      <td>0.463403</td>\n",
       "      <td>1.000000</td>\n",
       "      <td>-0.177717</td>\n",
       "      <td>0.047937</td>\n",
       "      <td>-0.215007</td>\n",
       "    </tr>\n",
       "    <tr>\n",
       "      <th>containment</th>\n",
       "      <td>0.157661</td>\n",
       "      <td>-0.177717</td>\n",
       "      <td>1.000000</td>\n",
       "      <td>0.270636</td>\n",
       "      <td>-0.092598</td>\n",
       "    </tr>\n",
       "    <tr>\n",
       "      <th>similarity</th>\n",
       "      <td>0.554366</td>\n",
       "      <td>0.047937</td>\n",
       "      <td>0.270636</td>\n",
       "      <td>1.000000</td>\n",
       "      <td>0.417239</td>\n",
       "    </tr>\n",
       "    <tr>\n",
       "      <th>word_count</th>\n",
       "      <td>0.250563</td>\n",
       "      <td>-0.215007</td>\n",
       "      <td>-0.092598</td>\n",
       "      <td>0.417239</td>\n",
       "      <td>1.000000</td>\n",
       "    </tr>\n",
       "  </tbody>\n",
       "</table>\n",
       "</div>"
      ],
      "text/plain": [
       "              content   wording  containment  similarity  word_count\n",
       "content      1.000000  0.463403     0.157661    0.554366    0.250563\n",
       "wording      0.463403  1.000000    -0.177717    0.047937   -0.215007\n",
       "containment  0.157661 -0.177717     1.000000    0.270636   -0.092598\n",
       "similarity   0.554366  0.047937     0.270636    1.000000    0.417239\n",
       "word_count   0.250563 -0.215007    -0.092598    0.417239    1.000000"
      ]
     },
     "execution_count": 44,
     "metadata": {},
     "output_type": "execute_result"
    }
   ],
   "source": [
    "final_df.corr()"
   ]
  },
  {
   "cell_type": "code",
   "execution_count": 32,
   "id": "fb1349ec-8876-44bc-bb92-e680becbca36",
   "metadata": {
    "tags": []
   },
   "outputs": [
    {
     "data": {
      "text/plain": [
       "Text(0.5, 1.0, 'Distribution of Content and Wording Scores')"
      ]
     },
     "execution_count": 32,
     "metadata": {},
     "output_type": "execute_result"
    },
    {
     "data": {
      "image/png": "[encoded data removed]",
      "text/plain": [
       "<Figure size 640x480 with 1 Axes>"
      ]
     },
     "metadata": {},
     "output_type": "display_data"
    }
   ],
   "source": [
    "final_df[['content','wording']].plot.box()\n",
    "plt.title('Distribution of Content and Wording Scores')"
   ]
  },
  {
   "cell_type": "code",
   "execution_count": 36,
   "id": "3b6d0ec9-728e-4ef2-83fb-66258b42b5e5",
   "metadata": {
    "tags": []
   },
   "outputs": [
    {
     "data": {
      "text/plain": [
       "Text(0.5, 1.0, 'Histogram of Containment Scores')"
      ]
     },
     "execution_count": 36,
     "metadata": {},
     "output_type": "execute_result"
    },
    {
     "data": {
      "image/png": "[encoded data removed]",
      "text/plain": [
       "<Figure size 640x480 with 1 Axes>"
      ]
     },
     "metadata": {},
     "output_type": "display_data"
    }
   ],
   "source": [
    "final_df[['containment']].plot.hist(bins=20)\n",
    "plt.title('Histogram of Containment Scores')"
   ]
  },
  {
   "cell_type": "code",
   "execution_count": 38,
   "id": "0f99c209-0869-43ea-b1f5-757ab34da4a7",
   "metadata": {
    "tags": []
   },
   "outputs": [
    {
     "data": {
      "text/plain": [
       "Text(0.5, 1.0, 'Histogram of Similarity Scores')"
      ]
     },
     "execution_count": 38,
     "metadata": {},
     "output_type": "execute_result"
    },
    {
     "data": {
      "image/png": "[encoded data removed]",
      "text/plain": [
       "<Figure size 640x480 with 1 Axes>"
      ]
     },
     "metadata": {},
     "output_type": "display_data"
    }
   ],
   "source": [
    "final_df[['similarity']].plot.hist(bins=10)\n",
    "plt.title('Histogram of Similarity Scores')"
   ]
  },
  {
   "cell_type": "code",
   "execution_count": null,
   "id": "03a31034-1f46-4517-a418-a9ad15c346e3",
   "metadata": {},
   "outputs": [],
   "source": []
  }
 ],
 "metadata": {
  "kernelspec": {
   "display_name": "Python [conda env:wesEnvironment]",
   "language": "python",
   "name": "conda-env-wesEnvironment-py"
  },
  "language_info": {
   "codemirror_mode": {
    "name": "ipython",
    "version": 3
   },
   "file_extension": ".py",
   "mimetype": "text/x-python",
   "name": "python",
   "nbconvert_exporter": "python",
   "pygments_lexer": "ipython3",
   "version": "3.10.9"
  }
 },
 "nbformat": 4,
 "nbformat_minor": 5
}
