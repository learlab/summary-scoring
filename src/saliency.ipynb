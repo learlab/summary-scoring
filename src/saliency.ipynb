{
 "cells": [
  {
   "cell_type": "code",
   "execution_count": 1,
   "id": "bc831a92-5753-4c64-aca3-5622ca4028c0",
   "metadata": {
    "tags": []
   },
   "outputs": [
    {
     "name": "stderr",
     "output_type": "stream",
     "text": [
      "2023-03-01 21:15:51.375892: I tensorflow/core/platform/cpu_feature_guard.cc:193] This TensorFlow binary is optimized with oneAPI Deep Neural Network Library (oneDNN) to use the following CPU instructions in performance-critical operations:  SSE4.1 SSE4.2 AVX AVX2 AVX512F AVX512_VNNI FMA\n",
      "To enable them in other operations, rebuild TensorFlow with the appropriate compiler flags.\n",
      "2023-03-01 21:15:51.591420: I tensorflow/core/util/port.cc:104] oneDNN custom operations are on. You may see slightly different numerical results due to floating-point round-off errors from different computation orders. To turn them off, set the environment variable `TF_ENABLE_ONEDNN_OPTS=0`.\n",
      "Some weights of the model checkpoint at tiedaar/summary-longformer-content were not used when initializing LongformerForSequenceClassification: ['longformer.embeddings.position_ids']\n",
      "- This IS expected if you are initializing LongformerForSequenceClassification from the checkpoint of a model trained on another task or with another architecture (e.g. initializing a BertForSequenceClassification model from a BertForPreTraining model).\n",
      "- This IS NOT expected if you are initializing LongformerForSequenceClassification from the checkpoint of a model that you expect to be exactly identical (initializing a BertForSequenceClassification model from a BertForSequenceClassification model).\n",
      "Some weights of the model checkpoint at tiedaar/summary-longformer-wording were not used when initializing LongformerForSequenceClassification: ['longformer.embeddings.position_ids']\n",
      "- This IS expected if you are initializing LongformerForSequenceClassification from the checkpoint of a model trained on another task or with another architecture (e.g. initializing a BertForSequenceClassification model from a BertForPreTraining model).\n",
      "- This IS NOT expected if you are initializing LongformerForSequenceClassification from the checkpoint of a model that you expect to be exactly identical (initializing a BertForSequenceClassification model from a BertForSequenceClassification model).\n"
     ]
    }
   ],
   "source": [
    "from transformers.models.auto import AutoConfig, AutoModelForSequenceClassification\n",
    "from transformers.models.auto.tokenization_auto import AutoTokenizer\n",
    "\n",
    "content_model_uri = 'tiedaar/summary-longformer-content'\n",
    "wording_model_uri = 'tiedaar/summary-longformer-wording'\n",
    "\n",
    "tokenizer = AutoTokenizer.from_pretrained(content_model_uri)\n",
    "content_grader = AutoModelForSequenceClassification.from_pretrained(content_model_uri, num_labels=1)\n",
    "wording_grader = AutoModelForSequenceClassification.from_pretrained(wording_model_uri, num_labels=1)"
   ]
  },
  {
   "cell_type": "code",
   "execution_count": 2,
   "id": "bf4518de-6579-4922-8875-12771ae74d74",
   "metadata": {
    "tags": []
   },
   "outputs": [
    {
     "data": {
      "text/plain": [
       "('../bin/content_model/tokenizer_config.json',\n",
       " '../bin/content_model/special_tokens_map.json',\n",
       " '../bin/content_model/vocab.json',\n",
       " '../bin/content_model/merges.txt',\n",
       " '../bin/content_model/added_tokens.json',\n",
       " '../bin/content_model/tokenizer.json')"
      ]
     },
     "execution_count": 2,
     "metadata": {},
     "output_type": "execute_result"
    }
   ],
   "source": [
    "model_path = '../bin/'\n",
    "wording_grader.save_pretrained(model_path+'wording_model/')\n",
    "tokenizer.save_pretrained(model_path+'wording_model/')\n",
    "content_grader.save_pretrained(model_path+'content_model/')\n",
    "tokenizer.save_pretrained(model_path+'content_model/')"
   ]
  },
  {
   "cell_type": "code",
   "execution_count": 3,
   "id": "dca5efb8-d626-4d88-adc5-0a0a2e9b2b98",
   "metadata": {
    "tags": []
   },
   "outputs": [
    {
     "ename": "ModuleNotFoundError",
     "evalue": "No module named 'allennlp'",
     "output_type": "error",
     "traceback": [
      "\u001b[0;31m---------------------------------------------------------------------------\u001b[0m",
      "\u001b[0;31mModuleNotFoundError\u001b[0m                       Traceback (most recent call last)",
      "Cell \u001b[0;32mIn[3], line 1\u001b[0m\n\u001b[0;32m----> 1\u001b[0m \u001b[38;5;28;01mfrom\u001b[39;00m \u001b[38;5;21;01mallennlp\u001b[39;00m\u001b[38;5;21;01m.\u001b[39;00m\u001b[38;5;21;01mdata\u001b[39;00m\u001b[38;5;21;01m.\u001b[39;00m\u001b[38;5;21;01mvocabulary\u001b[39;00m \u001b[38;5;28;01mimport\u001b[39;00m Vocabulary\n\u001b[1;32m      3\u001b[0m wording_vocab \u001b[38;5;241m=\u001b[39m Vocabulary\u001b[38;5;241m.\u001b[39mfrom_pretrained_transformer(model_path\u001b[38;5;241m+\u001b[39m\u001b[38;5;124m'\u001b[39m\u001b[38;5;124mwording_model/\u001b[39m\u001b[38;5;124m'\u001b[39m)\n",
      "\u001b[0;31mModuleNotFoundError\u001b[0m: No module named 'allennlp'"
     ]
    }
   ],
   "source": [
    "from allennlp.data.vocabulary import Vocabulary\n",
    "\n",
    "wording_vocab = Vocabulary.from_pretrained_transformer(model_path+'wording_model/')"
   ]
  },
  {
   "cell_type": "code",
   "execution_count": null,
   "id": "a058c769-750d-4a4d-801f-b18ac5cd8759",
   "metadata": {},
   "outputs": [],
   "source": []
  }
 ],
 "metadata": {
  "kernelspec": {
   "display_name": "Python [conda env:wesEnvironment]",
   "language": "python",
   "name": "conda-env-wesEnvironment-py"
  },
  "language_info": {
   "codemirror_mode": {
    "name": "ipython",
    "version": 3
   },
   "file_extension": ".py",
   "mimetype": "text/x-python",
   "name": "python",
   "nbconvert_exporter": "python",
   "pygments_lexer": "ipython3",
   "version": "3.10.9"
  }
 },
 "nbformat": 4,
 "nbformat_minor": 5
}
