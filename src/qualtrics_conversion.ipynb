{
 "cells": [
  {
   "cell_type": "markdown",
   "id": "c12f605a-1764-4db3-b19f-9402ace288b7",
   "metadata": {
    "tags": []
   },
   "source": [
    "# Convert raw data from Qualtrics into a usable dataframe"
   ]
  },
  {
   "cell_type": "code",
   "execution_count": 2,
   "id": "91bd6214-4298-42c6-acf8-778440d70abe",
   "metadata": {},
   "outputs": [],
   "source": [
    "import pandas as pd"
   ]
  },
  {
   "cell_type": "code",
   "execution_count": 3,
   "id": "ef9c991f-a453-407a-bb35-005539699b04",
   "metadata": {
    "tags": []
   },
   "outputs": [],
   "source": [
    "df = pd.read_csv('../data/qualtrics_2013.02.13.csv')"
   ]
  },
  {
   "cell_type": "code",
   "execution_count": 4,
   "id": "a9d599af-594d-42c7-90a5-7761d27bc5bb",
   "metadata": {
    "tags": []
   },
   "outputs": [
    {
     "data": {
      "text/plain": [
       "Index(['Finished', 'RecordedDate', 'ResponseId', 'Agreement', 'Prolific Id',\n",
       "       'Education', 'Ethnicity', 'Gender', 'Native Language', 'Birth Year',\n",
       "       'Summary 1.1', 'Summary 1.2', 'Summary 1.3', 'Summary 1.4',\n",
       "       'PROLIFIC_PID'],\n",
       "      dtype='object')"
      ]
     },
     "execution_count": 4,
     "metadata": {},
     "output_type": "execute_result"
    }
   ],
   "source": [
    "df = df[df['Finished'] == True]\n",
    "df.columns"
   ]
  },
  {
   "cell_type": "markdown",
   "id": "18c3d709-6e7a-4b60-a24e-19dca050a006",
   "metadata": {},
   "source": [
    "### Convert the raw data to long format"
   ]
  },
  {
   "cell_type": "code",
   "execution_count": 5,
   "id": "691c83ad-c8c5-44de-b1b1-706ed7489ceb",
   "metadata": {
    "tags": []
   },
   "outputs": [
    {
     "data": {
      "text/plain": [
       "123"
      ]
     },
     "execution_count": 5,
     "metadata": {},
     "output_type": "execute_result"
    }
   ],
   "source": [
    "df_long = pd.melt(df[['PROLIFIC_PID', 'RecordedDate', 'ResponseId', 'Agreement', 'Prolific Id',\n",
    "       'Education', 'Ethnicity', 'Gender', 'Native Language', 'Birth Year', 'Summary 1.1', 'Summary 1.2', 'Summary 1.3', 'Summary 1.4']],id_vars=['PROLIFIC_PID', 'RecordedDate', 'ResponseId', 'Agreement', 'Prolific Id',\n",
    "       'Education', 'Ethnicity', 'Gender', 'Native Language', 'Birth Year', ], var_name='question', value_name='summary')\n",
    "df_long = df_long[df_long['summary'].notna()]\n",
    "df_long['section'] = df_long['question'].apply(lambda x: x.split('.')[1])\n",
    "df_long['summary'] = df_long['summary'].apply(lambda x: x.lower())\n",
    "df_long['id'] = df_long[\"PROLIFIC_PID\"]+df_long[\"section\"]\n",
    "len(df_long)"
   ]
  },
  {
   "cell_type": "code",
   "execution_count": 8,
   "id": "c2d74fc6-2868-43e6-99c6-a74fee8eccbe",
   "metadata": {
    "tags": []
   },
   "outputs": [],
   "source": [
    "df_long.to_csv('../data/qualtrics_survey_results.csv')"
   ]
  },
  {
   "cell_type": "markdown",
   "id": "a1b88cbf-ed1e-400f-839f-1baf0c6b56df",
   "metadata": {},
   "source": [
    "### The function to send the request to the api"
   ]
  },
  {
   "cell_type": "code",
   "execution_count": 13,
   "id": "da86e311-2ae3-4ea9-8d6a-1a93c5bc4e62",
   "metadata": {
    "tags": []
   },
   "outputs": [],
   "source": [
    "import requests\n",
    "\n",
    "api_url = \"https://textbook-summary-api-zoghmeioka-ue.a.run.app/score\"\n",
    "\n",
    "def get_results(summary, section):\n",
    "    result = requests.post(\n",
    "        api_url,\n",
    "        json={\n",
    "            \"chapter_index\": 1,\n",
    "            \"section_index\": section,\n",
    "            \"summary\": summary,\n",
    "        }).json()\n",
    "    return result['content'], result['wording'], result['containment'], result['similarity']"
   ]
  },
  {
   "cell_type": "markdown",
   "id": "d581f621-01bf-4095-b4fc-98a20f478d47",
   "metadata": {},
   "source": [
    "### Build a dictionary using the api"
   ]
  },
  {
   "cell_type": "code",
   "execution_count": 14,
   "id": "c939d8cb-fb58-44ff-b826-d82d2406a669",
   "metadata": {
    "tags": []
   },
   "outputs": [
    {
     "name": "stdout",
     "output_type": "stream",
     "text": [
      "0\r"
     ]
    }
   ],
   "source": [
    "output_dict = {'id': [], 'content':[], 'wording':[], 'containment':[], 'similarity':[]}\n",
    "counter = 0\n",
    "for row in df_long.iterrows():\n",
    "    print(counter, end='\\r')\n",
    "    content, wording, containment, similarity = get_results(row[1]['summary'], row[1]['section'])\n",
    "    output_dict['id'].append(row[1]['id'])\n",
    "    output_dict['content'].append(content)\n",
    "    output_dict['wording'].append(wording)\n",
    "    output_dict['containment'].append(containment)\n",
    "    output_dict['similarity'].append(similarity)\n",
    "    counter += 1"
   ]
  },
  {
   "cell_type": "markdown",
   "id": "533cc4ac-445f-4c61-b5a7-11f67f4ea39a",
   "metadata": {},
   "source": [
    "### Merge the results with the original dataframe"
   ]
  },
  {
   "cell_type": "code",
   "execution_count": 16,
   "id": "b5c41d0a-7e36-46e5-9e29-2a235d671b6c",
   "metadata": {
    "tags": []
   },
   "outputs": [],
   "source": [
    "df_output = pd.DataFrame.from_dict(output_dict)\n",
    "final_df = df_output.merge(df_long, on='id')\n",
    "final_df['word_count'] = final_df['summary'].apply(lambda x: len(x.split()))"
   ]
  },
  {
   "cell_type": "markdown",
   "id": "62eea96c-84f9-4b0d-b3c7-a4fca66d71b9",
   "metadata": {},
   "source": [
    "### Save to file"
   ]
  },
  {
   "cell_type": "code",
   "execution_count": 17,
   "id": "40b0032a-4a3a-4b08-abf0-a85b9bddb0fd",
   "metadata": {
    "tags": []
   },
   "outputs": [],
   "source": [
    "final_df.to_csv('../data/qualtrics_survey.csv')"
   ]
  },
  {
   "cell_type": "code",
   "execution_count": 17,
   "id": "2135cc58-90b2-4ccb-b673-8c5f729d18c1",
   "metadata": {},
   "outputs": [],
   "source": []
  }
 ],
 "metadata": {
  "kernelspec": {
   "display_name": "Python [conda env:peft]",
   "language": "python",
   "name": "conda-env-peft-py"
  },
  "language_info": {
   "codemirror_mode": {
    "name": "ipython",
    "version": 3
   },
   "file_extension": ".py",
   "mimetype": "text/x-python",
   "name": "python",
   "nbconvert_exporter": "python",
   "pygments_lexer": "ipython3",
   "version": "3.10.11"
  }
 },
 "nbformat": 4,
 "nbformat_minor": 5
}
