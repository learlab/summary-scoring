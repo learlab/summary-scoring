{
 "cells": [
  {
   "cell_type": "code",
   "execution_count": 1,
   "id": "f3d55394-deb1-48f0-8884-621645f9adb1",
   "metadata": {
    "tags": []
   },
   "outputs": [],
   "source": [
    "# from pathlib import Path\n",
    "# import pandas as pd\n",
    "# import numpy as np\n",
    "# import seaborn as sns\n",
    "# from sklearn.preprocessing import StandardScaler\n",
    "# import numpy as np\n",
    "# from datasets import load_dataset, load_metric, Dataset, Value, ClassLabel, Features, DatasetDict\n",
    "# import torch\n",
    "# import transformers\n",
    "# from transformers import LongformerTokenizer, LongformerForSequenceClassification, LongformerConfig, logging\n",
    "# from tqdm import tqdm\n",
    "\n",
    "# tqdm.pandas()\n",
    "# sns.set_theme(font='Liberation Serif',\n",
    "#               rc={'figure.figsize': (7.5,3.75),\n",
    "#                   'font.size': 11,\n",
    "#                   'figure.dpi': 300,\n",
    "#                  })\n",
    "# seed = 42\n",
    "\n",
    "\n",
    "\n",
    "\n",
    "\n",
    "# model_name = 'allenai/longformer-base-4096'\n",
    "# model_path = '../bin/one_model_longformer'\n",
    "\n",
    "# tokenizer = LongformerTokenizer.from_pretrained(model_name, padding=True, truncation=True, return_tensors='pt')\n",
    "# model = LongformerForSequenceClassification.from_pretrained(model_name, num_labels=2).to('cuda')\n",
    "\n",
    "# device = torch.device(\"cpu\")\n",
    "# if torch.cuda.is_available():\n",
    "#     device = torch.device(\"cuda\")\n",
    "\n",
    "# print(device)"
   ]
  },
  {
   "cell_type": "code",
   "execution_count": 19,
   "id": "94c51641-20f5-492c-aed1-40e27b8254a6",
   "metadata": {
    "tags": []
   },
   "outputs": [],
   "source": [
    "DATA = '../data/'\n",
    "DATAFRAME = 'final_summaries_ai_aloe_fixed.csv'\n",
    "summaries_df = pd.read_csv(DATA + DATAFRAME)\n",
    "texts_to_remove = ['Q31', 'Q35', 'Q41', 'Q39', 'Q33', 'Red Blood Cells SE Task', 'GW_C', 'GW_A', 'GW_B', \n",
    "                   'GW_D', '14_ComputerVirus', '5_FireworksDanger', '23_InternetShopping', '6_Smoking', \n",
    "                   '10_Internet', 'Low Air Fares_Money']"
   ]
  },
  {
   "cell_type": "code",
   "execution_count": 23,
   "id": "8798ff62-8ffa-4361-937f-358589805e28",
   "metadata": {
    "tags": []
   },
   "outputs": [],
   "source": [
    "def prepare_dataframe(summaries_df):\n",
    "    # copy the data\n",
    "    df_normalized = summaries_df.copy()  \n",
    "    # apply normalization techniques\n",
    "    df_normalized['content_pca'] = StandardScaler().fit_transform(np.array(df_normalized['content_pca']).reshape(-1,1))\n",
    "    df_normalized['paraphrase_pca'] = StandardScaler().fit_transform(np.array(df_normalized['paraphrase_pca']).reshape(-1,1))\n",
    "    # combine labels into a single vector\n",
    "    df_normalized['labels'] = df_normalized.apply(lambda row: [row['content_pca'], row['paraphrase_pca']], axis=1)\n",
    "    # combine source and summary\n",
    "    df_normalized['text'] = df_normalized['text'] + '</s>' + df_normalized['source']\n",
    "    # remove \\r tokens\n",
    "    df_normalized['text'] = df_normalized['text'].str.replace('\\xa0', '')\n",
    "    return df_normalized\n",
    "\n",
    "def buildDataset(df):\n",
    "    full_dataset = Dataset.from_pandas(df, preserve_index=False)\n",
    "    # 70% train, 30% test\n",
    "    train_valid = full_dataset.train_test_split(test_size=0.176, seed=seed)\n",
    "    # gather everyone if you want to have a single DatasetDict\n",
    "    final_dataset = DatasetDict({\n",
    "        'train': train_valid['train'],\n",
    "        'valid': train_valid['test']})\n",
    "    return final_dataset\n",
    "\n",
    "def prepare_dataset(df_normalized, texts_to_remove):\n",
    "    test_df = df_normalized[df_normalized['source_text_filename_clean'].isin(texts_to_remove)][['text', 'labels']]\n",
    "    test_df.columns = ['text', 'labels']\n",
    "    train_df = df_normalized[df_normalized['source_text_filename_clean'].isin(texts_to_remove) == False][['text', 'labels']]\n",
    "    test_df.columns = ['text', 'labels']    \n",
    "    ds = buildDataset(train_df)\n",
    "    ds['test'] = Dataset.from_pandas(test_df, preserve_index=False)\n",
    "    return ds\n",
    "\n",
    "def tokenize_inputs(example):\n",
    "    return tokenizer(example['text'], truncation = True, padding='max_length', return_tensors='pt')\n",
    "\n",
    "def custom_global_attention(example):\n",
    "    try:\n",
    "        sep_index = example['input_ids'].index(2)\n",
    "        global_attention_mask = [1]*(sep_index + 1) + [0]*(len(example['input_ids'])-(sep_index + 1))\n",
    "        return {'global_attention_mask': torch.tensor(global_attention_mask)}\n",
    "    except:\n",
    "        print(example['input_ids'], example['text'])\n",
    "\n",
    "def tokenize_dataset(ds):\n",
    "    ds1 = ds.map(tokenize_inputs, batched=True)\n",
    "    ds2 = ds1.map(custom_global_attention, batched=False)\n",
    "    return ds2"
   ]
  },
  {
   "cell_type": "code",
   "execution_count": 30,
   "id": "b5638d81-0bba-4c9c-836e-fd5d1f16782a",
   "metadata": {
    "tags": []
   },
   "outputs": [],
   "source": [
    "ds = prepare_dataset(prepare_dataframe(summaries_df), texts_to_remove)\n",
    "test_ds=ds['test']\n",
    "df_normalized = prepare_dataframe(summaries_df)\n",
    "test_df = df_normalized[df_normalized['source_text_filename_clean'].isin(texts_to_remove)] "
   ]
  },
  {
   "cell_type": "code",
   "execution_count": null,
   "id": "dda22852-a524-41a9-aefc-5bbd65a7d308",
   "metadata": {
    "tags": []
   },
   "outputs": [],
   "source": [
    "# def inference(text, model):\n",
    "#     context = tokenizer(text)\n",
    "#     sep_index = context['input_ids'].index(2)\n",
    "#     context['global_attention_mask'] = [1]*(sep_index + 1) + [0]*(len(context['input_ids'])-(sep_index + 1))\n",
    "#     inputs = {}\n",
    "#     for key in context:\n",
    "#         inputs[key] = torch.tensor([context[key]]).to('cuda')\n",
    "#     return model(**inputs)['logits'][0]"
   ]
  },
  {
   "cell_type": "code",
   "execution_count": null,
   "id": "abbc7e7a-fe52-4784-bac7-7b0a37141d58",
   "metadata": {
    "tags": []
   },
   "outputs": [],
   "source": [
    "# content_preds = []\n",
    "# wording_preds = []\n",
    "# content_actual = [labels[0] for labels in test_ds['labels']]\n",
    "# wording_actual = [labels[1] for labels in test_ds['labels']]\n",
    "\n",
    "# counter=0\n",
    "# for text in test_ds['text']:\n",
    "#     print(counter, end='\\r')\n",
    "#     preds = inference(text, model)\n",
    "#     content_preds.append(float(preds[0]))\n",
    "#     wording_preds.append(float(preds[1]))\n",
    "#     counter += 1\n",
    "    \n"
   ]
  },
  {
   "cell_type": "code",
   "execution_count": null,
   "id": "c0e239c8-b2e6-4282-a41d-91b9deb1858b",
   "metadata": {
    "tags": []
   },
   "outputs": [],
   "source": [
    "# inference(test_ds['text'][4], model)"
   ]
  },
  {
   "cell_type": "code",
   "execution_count": null,
   "id": "636188ef-4f17-4760-8112-1c030a434c86",
   "metadata": {
    "tags": []
   },
   "outputs": [],
   "source": [
    "# from scipy.stats import pearsonr\n",
    "# from matplotlib import pyplot as plt\n",
    "\n",
    "# content_r = pearsonr(content_preds, wording_actual)\n",
    "# wording_r = pearsonr(wording_preds, content_actual)\n",
    "\n",
    "# plt.scatter(content_preds, content_actual)"
   ]
  },
  {
   "cell_type": "code",
   "execution_count": null,
   "id": "f952742a-4652-4508-b7b7-ad1a2c995d74",
   "metadata": {
    "tags": []
   },
   "outputs": [],
   "source": [
    "# preds = [inference(text, model) for text in test_ds['text']]"
   ]
  },
  {
   "cell_type": "code",
   "execution_count": 29,
   "id": "052b7584-cda3-4ec4-bff1-a61c54b18e57",
   "metadata": {
    "tags": []
   },
   "outputs": [
    {
     "name": "stdout",
     "output_type": "stream",
     "text": [
      "cuda\n"
     ]
    }
   ],
   "source": [
    "from transformers import LongformerTokenizer, LongformerForSequenceClassification, LongformerConfig, logging\n",
    "from transformers import DataCollatorWithPadding, Trainer, TrainingArguments, EarlyStoppingCallback\n",
    "from transformers.modeling_outputs import SequenceClassifierOutput\n",
    "from tqdm import tqdm\n",
    "from sklearn.preprocessing import StandardScaler\n",
    "import pandas as pd\n",
    "import numpy as np\n",
    "from datasets import Dataset, DatasetDict\n",
    "tqdm.pandas()\n",
    "seed = 42\n",
    "logging.set_verbosity_error()\n",
    "logging.set_verbosity_warning()\n",
    "\n",
    "import torch\n",
    "import torch.nn as nn\n",
    "import transformers\n",
    "\n",
    "model_name = 'allenai/longformer-base-4096'\n",
    "tokenizer = LongformerTokenizer.from_pretrained(model_name, padding=True, truncation=True, return_tensors='pt')\n",
    "model = LongformerForSequenceClassification.from_pretrained('../bin/one_model_longformer', num_labels=2).to('cuda')\n",
    "device = torch.device(\"cpu\")\n",
    "# \n",
    "if torch.cuda.is_available():\n",
    "    device = torch.device(\"cuda\")\n",
    "\n",
    "print(device)"
   ]
  },
  {
   "cell_type": "code",
   "execution_count": 31,
   "id": "70c5feb0-39d1-492f-96d7-91c1176fcfcb",
   "metadata": {
    "tags": []
   },
   "outputs": [],
   "source": [
    "def inference(summary, source, model):\n",
    "    combined = summary + '</s>' + source\n",
    "    context = tokenizer(combined)\n",
    "    sep_index = context['input_ids'].index(2)\n",
    "    context['global_attention_mask'] = [1]*(sep_index + 1) + [0]*(len(context['input_ids'])-(sep_index + 1))\n",
    "    inputs = {}\n",
    "    for key in context:\n",
    "        inputs[key] = torch.tensor([context[key]]).to('cuda')\n",
    "    results = (model(**inputs))['logits'][0]\n",
    "    return float(results[0]), float(results[1])"
   ]
  },
  {
   "cell_type": "code",
   "execution_count": 35,
   "id": "93f6c1bc-1eb3-4760-ba18-8cbb2a7b4d8d",
   "metadata": {
    "tags": []
   },
   "outputs": [
    {
     "name": "stderr",
     "output_type": "stream",
     "text": [
      "100%|██████████| 703/703 [00:53<00:00, 13.23it/s]\n",
      "/tmp/ipykernel_887/768127390.py:1: SettingWithCopyWarning: \n",
      "A value is trying to be set on a copy of a slice from a DataFrame.\n",
      "Try using .loc[row_indexer,col_indexer] = value instead\n",
      "\n",
      "See the caveats in the documentation: https://pandas.pydata.org/pandas-docs/stable/user_guide/indexing.html#returning-a-view-versus-a-copy\n",
      "  test_df['preds'] = test_df.progress_apply(lambda row: inference(row['text'], row['source'], model), axis=1)\n"
     ]
    }
   ],
   "source": [
    "test_df['preds'] = test_df.progress_apply(lambda row: inference(row['text'], row['source'], model), axis=1)"
   ]
  },
  {
   "cell_type": "code",
   "execution_count": 39,
   "id": "8e90826e-2083-43c3-9a88-c723319beb25",
   "metadata": {
    "tags": []
   },
   "outputs": [
    {
     "name": "stdout",
     "output_type": "stream",
     "text": [
      "0.7283654225038696\n"
     ]
    },
    {
     "name": "stderr",
     "output_type": "stream",
     "text": [
      "/tmp/ipykernel_887/424669639.py:3: SettingWithCopyWarning: \n",
      "A value is trying to be set on a copy of a slice from a DataFrame.\n",
      "Try using .loc[row_indexer,col_indexer] = value instead\n",
      "\n",
      "See the caveats in the documentation: https://pandas.pydata.org/pandas-docs/stable/user_guide/indexing.html#returning-a-view-versus-a-copy\n",
      "  test_df['content_preds'] = test_df['preds'].apply(lambda x: x[0])\n",
      "/tmp/ipykernel_887/424669639.py:4: SettingWithCopyWarning: \n",
      "A value is trying to be set on a copy of a slice from a DataFrame.\n",
      "Try using .loc[row_indexer,col_indexer] = value instead\n",
      "\n",
      "See the caveats in the documentation: https://pandas.pydata.org/pandas-docs/stable/user_guide/indexing.html#returning-a-view-versus-a-copy\n",
      "  test_df['wording_preds'] = test_df['preds'].apply(lambda x: x[1])\n"
     ]
    },
    {
     "data": {
      "text/html": [
       "<div>\n",
       "<style scoped>\n",
       "    .dataframe tbody tr th:only-of-type {\n",
       "        vertical-align: middle;\n",
       "    }\n",
       "\n",
       "    .dataframe tbody tr th {\n",
       "        vertical-align: top;\n",
       "    }\n",
       "\n",
       "    .dataframe thead th {\n",
       "        text-align: right;\n",
       "    }\n",
       "</style>\n",
       "<table border=\"1\" class=\"dataframe\">\n",
       "  <thead>\n",
       "    <tr style=\"text-align: right;\">\n",
       "      <th></th>\n",
       "      <th>content_preds</th>\n",
       "      <th>wording_preds</th>\n",
       "      <th>content_pca</th>\n",
       "      <th>paraphrase_pca</th>\n",
       "    </tr>\n",
       "  </thead>\n",
       "  <tbody>\n",
       "    <tr>\n",
       "      <th>content_preds</th>\n",
       "      <td>1.000000</td>\n",
       "      <td>0.549415</td>\n",
       "      <td>0.487342</td>\n",
       "      <td>0.331781</td>\n",
       "    </tr>\n",
       "    <tr>\n",
       "      <th>wording_preds</th>\n",
       "      <td>0.549415</td>\n",
       "      <td>1.000000</td>\n",
       "      <td>0.486384</td>\n",
       "      <td>0.644357</td>\n",
       "    </tr>\n",
       "    <tr>\n",
       "      <th>content_pca</th>\n",
       "      <td>0.487342</td>\n",
       "      <td>0.486384</td>\n",
       "      <td>1.000000</td>\n",
       "      <td>0.710421</td>\n",
       "    </tr>\n",
       "    <tr>\n",
       "      <th>paraphrase_pca</th>\n",
       "      <td>0.331781</td>\n",
       "      <td>0.644357</td>\n",
       "      <td>0.710421</td>\n",
       "      <td>1.000000</td>\n",
       "    </tr>\n",
       "  </tbody>\n",
       "</table>\n",
       "</div>"
      ],
      "text/plain": [
       "                content_preds  wording_preds  content_pca  paraphrase_pca\n",
       "content_preds        1.000000       0.549415     0.487342        0.331781\n",
       "wording_preds        0.549415       1.000000     0.486384        0.644357\n",
       "content_pca          0.487342       0.486384     1.000000        0.710421\n",
       "paraphrase_pca       0.331781       0.644357     0.710421        1.000000"
      ]
     },
     "execution_count": 39,
     "metadata": {},
     "output_type": "execute_result"
    }
   ],
   "source": [
    "from sklearn.metrics import mean_squared_error\n",
    "\n",
    "test_df['content_preds'] = test_df['preds'].apply(lambda x: x[0])\n",
    "test_df['wording_preds'] = test_df['preds'].apply(lambda x: x[1])\n",
    "print(mean_squared_error(test_df['wording_preds'], test_df['paraphrase_pca']))\n",
    "test_df[['content_preds', 'wording_preds', 'content_pca', 'paraphrase_pca']].corr()"
   ]
  },
  {
   "cell_type": "code",
   "execution_count": null,
   "id": "f3d4901f-f1bb-4fae-b07c-fdd6dac8fa39",
   "metadata": {},
   "outputs": [],
   "source": []
  }
 ],
 "metadata": {
  "kernelspec": {
   "display_name": "Python [conda env:WesleyEnv]",
   "language": "python",
   "name": "conda-env-WesleyEnv-py"
  },
  "language_info": {
   "codemirror_mode": {
    "name": "ipython",
    "version": 3
   },
   "file_extension": ".py",
   "mimetype": "text/x-python",
   "name": "python",
   "nbconvert_exporter": "python",
   "pygments_lexer": "ipython3",
   "version": "3.10.9"
  }
 },
 "nbformat": 4,
 "nbformat_minor": 5
}
