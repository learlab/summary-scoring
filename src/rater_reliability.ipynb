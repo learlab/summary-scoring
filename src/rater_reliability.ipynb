{
 "cells": [
  {
   "cell_type": "code",
   "execution_count": 1,
   "id": "2c8485e4-4d52-4ef2-8cfc-28e85a3143e5",
   "metadata": {
    "tags": []
   },
   "outputs": [],
   "source": [
    "import pandas as pd\n",
    "import os"
   ]
  },
  {
   "cell_type": "code",
   "execution_count": 2,
   "id": "a6257b43-c0c2-4d5e-8bbb-f04bbcdf991f",
   "metadata": {
    "tags": []
   },
   "outputs": [],
   "source": [
    "data = '../data/qualtrics_data/'"
   ]
  },
  {
   "cell_type": "code",
   "execution_count": 3,
   "id": "a99a7a70-8199-4300-8ca0-7379d5b79c0d",
   "metadata": {
    "tags": []
   },
   "outputs": [],
   "source": [
    "files = os.listdir(data)"
   ]
  },
  {
   "cell_type": "code",
   "execution_count": 4,
   "id": "ed247d62-618b-4904-a66b-caa656fea1f3",
   "metadata": {
    "tags": []
   },
   "outputs": [
    {
     "name": "stdout",
     "output_type": "stream",
     "text": [
      "qualtrics_ratings_long.csv\n",
      "qualtrics_ratings_yuning.csv\n",
      "qualtrics_ratings_wide.csv\n",
      "qualtrics_ratings_wes.csv\n"
     ]
    }
   ],
   "source": [
    "for file in files:\n",
    "    if os.path.isfile(data+file):\n",
    "        print(file)"
   ]
  },
  {
   "cell_type": "code",
   "execution_count": 5,
   "id": "d305a5b1-baa5-4033-ab4b-07c5fcb3b15e",
   "metadata": {
    "tags": []
   },
   "outputs": [],
   "source": [
    "df_dict = {}\n",
    "for i in files:\n",
    "    if os.path.isfile(data+i):\n",
    "        df_dict[i] = pd.read_csv(data + i)\n",
    "        if 'Unnamed: 0' in df_dict[i].columns:\n",
    "            df_dict[i] = df_dict[i].drop('Unnamed: 0', axis=1)\n",
    "sample1 = list(df_dict.values())[0]\n",
    "sample2 = list(df_dict.values())[1]"
   ]
  },
  {
   "cell_type": "code",
   "execution_count": null,
   "id": "5124a549-2114-4683-a1a1-84bf9e60431e",
   "metadata": {
    "tags": []
   },
   "outputs": [],
   "source": []
  },
  {
   "cell_type": "code",
   "execution_count": 6,
   "id": "8ccb5b61-c9c0-4a52-8ad1-fcfd4524b4c0",
   "metadata": {
    "tags": []
   },
   "outputs": [],
   "source": [
    "def wide_to_long(df, name):\n",
    "    return pd.melt(df, id_vars = sample1.columns[0:3], value_vars = sample1.columns[3:], value_name = name)\n"
   ]
  },
  {
   "cell_type": "code",
   "execution_count": 7,
   "id": "e284c33a-d5af-4a5a-94fb-415730bb7ae9",
   "metadata": {
    "tags": []
   },
   "outputs": [
    {
     "name": "stderr",
     "output_type": "stream",
     "text": [
      "/tmp/ipykernel_123/4172876682.py:2: FutureWarning: This dataframe has a column name that matches the 'value_name' column name of the resulting Dataframe. In the future this will raise an error, please set the 'value_name' parameter of DataFrame.melt to a unique name.\n",
      "  return pd.melt(df, id_vars = sample1.columns[0:3], value_vars = sample1.columns[3:], value_name = name)\n"
     ]
    },
    {
     "ename": "KeyError",
     "evalue": "\"The following 'id_vars' are not present in the DataFrame: ['section_x']\"",
     "output_type": "error",
     "traceback": [
      "\u001b[0;31m---------------------------------------------------------------------------\u001b[0m",
      "\u001b[0;31mKeyError\u001b[0m                                  Traceback (most recent call last)",
      "Cell \u001b[0;32mIn[7], line 4\u001b[0m\n\u001b[1;32m      2\u001b[0m sample \u001b[38;5;241m=\u001b[39m df_dict[\u001b[38;5;124m'\u001b[39m\u001b[38;5;124mqualtrics_ratings_yuning.csv\u001b[39m\u001b[38;5;124m'\u001b[39m]\n\u001b[1;32m      3\u001b[0m yuning \u001b[38;5;241m=\u001b[39m wide_to_long(sample1, \u001b[38;5;124m'\u001b[39m\u001b[38;5;124mqualtrics_ratings_yuning.csv\u001b[39m\u001b[38;5;124m'\u001b[39m)\n\u001b[0;32m----> 4\u001b[0m wes \u001b[38;5;241m=\u001b[39m \u001b[43mwide_to_long\u001b[49m\u001b[43m(\u001b[49m\u001b[43msample2\u001b[49m\u001b[43m,\u001b[49m\u001b[43m \u001b[49m\u001b[38;5;124;43m'\u001b[39;49m\u001b[38;5;124;43mqualtrics_ratings_wes.csv\u001b[39;49m\u001b[38;5;124;43m'\u001b[39;49m\u001b[43m)\u001b[49m\n\u001b[1;32m      6\u001b[0m dataframe \u001b[38;5;241m=\u001b[39m pd\u001b[38;5;241m.\u001b[39mmerge(yuning, wes, on\u001b[38;5;241m=\u001b[39m[\u001b[38;5;124m'\u001b[39m\u001b[38;5;124mid\u001b[39m\u001b[38;5;124m'\u001b[39m, \u001b[38;5;124m'\u001b[39m\u001b[38;5;124msummary\u001b[39m\u001b[38;5;124m'\u001b[39m, \u001b[38;5;124m'\u001b[39m\u001b[38;5;124mvariable\u001b[39m\u001b[38;5;124m'\u001b[39m], how\u001b[38;5;241m=\u001b[39m\u001b[38;5;124m'\u001b[39m\u001b[38;5;124mouter\u001b[39m\u001b[38;5;124m'\u001b[39m)\n\u001b[1;32m      8\u001b[0m dataframe \u001b[38;5;241m=\u001b[39m dataframe[[\u001b[38;5;124m'\u001b[39m\u001b[38;5;124mid\u001b[39m\u001b[38;5;124m'\u001b[39m, \u001b[38;5;124m'\u001b[39m\u001b[38;5;124msummary\u001b[39m\u001b[38;5;124m'\u001b[39m, \u001b[38;5;124m'\u001b[39m\u001b[38;5;124msection_x\u001b[39m\u001b[38;5;124m'\u001b[39m, \u001b[38;5;124m'\u001b[39m\u001b[38;5;124mvariable\u001b[39m\u001b[38;5;124m'\u001b[39m,\n\u001b[1;32m      9\u001b[0m        \u001b[38;5;124m'\u001b[39m\u001b[38;5;124mqualtrics_ratings_yuning.csv\u001b[39m\u001b[38;5;124m'\u001b[39m,\n\u001b[1;32m     10\u001b[0m        \u001b[38;5;124m'\u001b[39m\u001b[38;5;124mqualtrics_ratings_wes.csv\u001b[39m\u001b[38;5;124m'\u001b[39m]]\n",
      "Cell \u001b[0;32mIn[6], line 2\u001b[0m, in \u001b[0;36mwide_to_long\u001b[0;34m(df, name)\u001b[0m\n\u001b[1;32m      1\u001b[0m \u001b[38;5;28;01mdef\u001b[39;00m \u001b[38;5;21mwide_to_long\u001b[39m(df, name):\n\u001b[0;32m----> 2\u001b[0m     \u001b[38;5;28;01mreturn\u001b[39;00m \u001b[43mpd\u001b[49m\u001b[38;5;241;43m.\u001b[39;49m\u001b[43mmelt\u001b[49m\u001b[43m(\u001b[49m\u001b[43mdf\u001b[49m\u001b[43m,\u001b[49m\u001b[43m \u001b[49m\u001b[43mid_vars\u001b[49m\u001b[43m \u001b[49m\u001b[38;5;241;43m=\u001b[39;49m\u001b[43m \u001b[49m\u001b[43msample1\u001b[49m\u001b[38;5;241;43m.\u001b[39;49m\u001b[43mcolumns\u001b[49m\u001b[43m[\u001b[49m\u001b[38;5;241;43m0\u001b[39;49m\u001b[43m:\u001b[49m\u001b[38;5;241;43m3\u001b[39;49m\u001b[43m]\u001b[49m\u001b[43m,\u001b[49m\u001b[43m \u001b[49m\u001b[43mvalue_vars\u001b[49m\u001b[43m \u001b[49m\u001b[38;5;241;43m=\u001b[39;49m\u001b[43m \u001b[49m\u001b[43msample1\u001b[49m\u001b[38;5;241;43m.\u001b[39;49m\u001b[43mcolumns\u001b[49m\u001b[43m[\u001b[49m\u001b[38;5;241;43m3\u001b[39;49m\u001b[43m:\u001b[49m\u001b[43m]\u001b[49m\u001b[43m,\u001b[49m\u001b[43m \u001b[49m\u001b[43mvalue_name\u001b[49m\u001b[43m \u001b[49m\u001b[38;5;241;43m=\u001b[39;49m\u001b[43m \u001b[49m\u001b[43mname\u001b[49m\u001b[43m)\u001b[49m\n",
      "File \u001b[0;32m~/conda_envs/wesEnvironment/lib/python3.10/site-packages/pandas/core/reshape/melt.py:77\u001b[0m, in \u001b[0;36mmelt\u001b[0;34m(frame, id_vars, value_vars, var_name, value_name, col_level, ignore_index)\u001b[0m\n\u001b[1;32m     75\u001b[0m         missing \u001b[38;5;241m=\u001b[39m Index(com\u001b[38;5;241m.\u001b[39mflatten(id_vars))\u001b[38;5;241m.\u001b[39mdifference(cols)\n\u001b[1;32m     76\u001b[0m         \u001b[38;5;28;01mif\u001b[39;00m \u001b[38;5;129;01mnot\u001b[39;00m missing\u001b[38;5;241m.\u001b[39mempty:\n\u001b[0;32m---> 77\u001b[0m             \u001b[38;5;28;01mraise\u001b[39;00m \u001b[38;5;167;01mKeyError\u001b[39;00m(\n\u001b[1;32m     78\u001b[0m                 \u001b[38;5;124m\"\u001b[39m\u001b[38;5;124mThe following \u001b[39m\u001b[38;5;124m'\u001b[39m\u001b[38;5;124mid_vars\u001b[39m\u001b[38;5;124m'\u001b[39m\u001b[38;5;124m are not present \u001b[39m\u001b[38;5;124m\"\u001b[39m\n\u001b[1;32m     79\u001b[0m                 \u001b[38;5;124mf\u001b[39m\u001b[38;5;124m\"\u001b[39m\u001b[38;5;124min the DataFrame: \u001b[39m\u001b[38;5;132;01m{\u001b[39;00m\u001b[38;5;28mlist\u001b[39m(missing)\u001b[38;5;132;01m}\u001b[39;00m\u001b[38;5;124m\"\u001b[39m\n\u001b[1;32m     80\u001b[0m             )\n\u001b[1;32m     81\u001b[0m \u001b[38;5;28;01melse\u001b[39;00m:\n\u001b[1;32m     82\u001b[0m     id_vars \u001b[38;5;241m=\u001b[39m []\n",
      "\u001b[0;31mKeyError\u001b[0m: \"The following 'id_vars' are not present in the DataFrame: ['section_x']\""
     ]
    }
   ],
   "source": [
    "dataframe = pd.DataFrame(columns = ['id', 'section', 'summary', 'variable', 'value'])\n",
    "sample = df_dict['qualtrics_ratings_yuning.csv']\n",
    "yuning = wide_to_long(sample1, 'qualtrics_ratings_yuning.csv')\n",
    "wes = wide_to_long(sample2, 'qualtrics_ratings_wes.csv')\n",
    "\n",
    "dataframe = pd.merge(yuning, wes, on=['id', 'summary', 'variable'], how='outer')\n",
    "\n",
    "dataframe = dataframe[['id', 'summary', 'section_x', 'variable',\n",
    "       'qualtrics_ratings_yuning.csv',\n",
    "       'qualtrics_ratings_wes.csv']]\n",
    "\n",
    "# for i in df_dict:\n",
    "#     temp_df = wide_to_long(df_dict[i], i)\n",
    "#     dataframe = pd.merge(dataframe, temp_df, on=['id', 'section', 'summary', 'variable'], how='outer')\n",
    "    \n"
   ]
  },
  {
   "cell_type": "code",
   "execution_count": null,
   "id": "c6bc2165-38d5-4e3c-868e-5de0caec02d0",
   "metadata": {
    "tags": []
   },
   "outputs": [],
   "source": [
    "dataframe"
   ]
  },
  {
   "cell_type": "code",
   "execution_count": null,
   "id": "ff116017-7446-4b39-88af-b9ae78a37a9b",
   "metadata": {
    "tags": []
   },
   "outputs": [],
   "source": [
    "dataframe.to_csv('../results/qualtrics_ratings_long.csv')"
   ]
  },
  {
   "cell_type": "code",
   "execution_count": 5,
   "id": "40ca76f5-805c-4fe7-ac9d-3c32394509b4",
   "metadata": {
    "tags": []
   },
   "outputs": [
    {
     "data": {
      "text/html": [
       "<div>\n",
       "<style scoped>\n",
       "    .dataframe tbody tr th:only-of-type {\n",
       "        vertical-align: middle;\n",
       "    }\n",
       "\n",
       "    .dataframe tbody tr th {\n",
       "        vertical-align: top;\n",
       "    }\n",
       "\n",
       "    .dataframe thead th {\n",
       "        text-align: right;\n",
       "    }\n",
       "</style>\n",
       "<table border=\"1\" class=\"dataframe\">\n",
       "  <thead>\n",
       "    <tr style=\"text-align: right;\">\n",
       "      <th></th>\n",
       "      <th>id</th>\n",
       "      <th>summary</th>\n",
       "      <th>section_x</th>\n",
       "      <th>variable</th>\n",
       "      <th>qualtrics_ratings_yuning.csv</th>\n",
       "      <th>qualtrics_ratings_wes.csv</th>\n",
       "      <th>Unnamed: 6</th>\n",
       "    </tr>\n",
       "  </thead>\n",
       "  <tbody>\n",
       "    <tr>\n",
       "      <th>0</th>\n",
       "      <td>60109ec41bb0de422378c3012</td>\n",
       "      <td>2</td>\n",
       "      <td>microeconomics is based on individual and hous...</td>\n",
       "      <td>Voice</td>\n",
       "      <td>3</td>\n",
       "      <td>2</td>\n",
       "      <td>1</td>\n",
       "    </tr>\n",
       "    <tr>\n",
       "      <th>1</th>\n",
       "      <td>632aaef27780d596dc7e0a9f2</td>\n",
       "      <td>2</td>\n",
       "      <td>economics is concerned with the well-being of ...</td>\n",
       "      <td>Voice</td>\n",
       "      <td>3</td>\n",
       "      <td>2</td>\n",
       "      <td>1</td>\n",
       "    </tr>\n",
       "    <tr>\n",
       "      <th>2</th>\n",
       "      <td>6361a8a745dd1d5d6f192d362</td>\n",
       "      <td>2</td>\n",
       "      <td>economics is concerned with the well-being of ...</td>\n",
       "      <td>Voice</td>\n",
       "      <td>3</td>\n",
       "      <td>2</td>\n",
       "      <td>1</td>\n",
       "    </tr>\n",
       "    <tr>\n",
       "      <th>3</th>\n",
       "      <td>63c3343c5a670ddd37e82f2b2</td>\n",
       "      <td>2</td>\n",
       "      <td>economics is concerned with the well-being of ...</td>\n",
       "      <td>Voice</td>\n",
       "      <td>3</td>\n",
       "      <td>2</td>\n",
       "      <td>1</td>\n",
       "    </tr>\n",
       "    <tr>\n",
       "      <th>4</th>\n",
       "      <td>63cc61c7c2ae0809f0c71cb52</td>\n",
       "      <td>2</td>\n",
       "      <td>to understand why both microeconomic and macro...</td>\n",
       "      <td>Voice</td>\n",
       "      <td>3</td>\n",
       "      <td>2</td>\n",
       "      <td>1</td>\n",
       "    </tr>\n",
       "    <tr>\n",
       "      <th>...</th>\n",
       "      <td>...</td>\n",
       "      <td>...</td>\n",
       "      <td>...</td>\n",
       "      <td>...</td>\n",
       "      <td>...</td>\n",
       "      <td>...</td>\n",
       "      <td>...</td>\n",
       "    </tr>\n",
       "    <tr>\n",
       "      <th>733</th>\n",
       "      <td>63b5681c49af1cbe651420bc</td>\n",
       "      <td>4</td>\n",
       "      <td>economies are complex systems, but we can use ...</td>\n",
       "      <td>Language</td>\n",
       "      <td>3</td>\n",
       "      <td>3</td>\n",
       "      <td>0</td>\n",
       "    </tr>\n",
       "    <tr>\n",
       "      <th>734</th>\n",
       "      <td>63b63938dbf229f3eb46d4a4</td>\n",
       "      <td>4</td>\n",
       "      <td>there are three common ways in which an econom...</td>\n",
       "      <td>Language</td>\n",
       "      <td>3</td>\n",
       "      <td>3</td>\n",
       "      <td>0</td>\n",
       "    </tr>\n",
       "    <tr>\n",
       "      <th>735</th>\n",
       "      <td>63cbfaf6ab54f6b8d8a054d7</td>\n",
       "      <td>4</td>\n",
       "      <td>this introduction describes the different type...</td>\n",
       "      <td>Language</td>\n",
       "      <td>3</td>\n",
       "      <td>3</td>\n",
       "      <td>0</td>\n",
       "    </tr>\n",
       "    <tr>\n",
       "      <th>736</th>\n",
       "      <td>63dae36f736faa53f7c68127</td>\n",
       "      <td>4</td>\n",
       "      <td>the modern economy is a complex system that in...</td>\n",
       "      <td>Language</td>\n",
       "      <td>3</td>\n",
       "      <td>3</td>\n",
       "      <td>0</td>\n",
       "    </tr>\n",
       "    <tr>\n",
       "      <th>737</th>\n",
       "      <td>63e563e181e6c9cc44348a12</td>\n",
       "      <td>4</td>\n",
       "      <td>this section was a learning experience. i was ...</td>\n",
       "      <td>Language</td>\n",
       "      <td>3</td>\n",
       "      <td>3</td>\n",
       "      <td>0</td>\n",
       "    </tr>\n",
       "  </tbody>\n",
       "</table>\n",
       "<p>738 rows × 7 columns</p>\n",
       "</div>"
      ],
      "text/plain": [
       "                            id  summary  \\\n",
       "0    60109ec41bb0de422378c3012        2   \n",
       "1    632aaef27780d596dc7e0a9f2        2   \n",
       "2    6361a8a745dd1d5d6f192d362        2   \n",
       "3    63c3343c5a670ddd37e82f2b2        2   \n",
       "4    63cc61c7c2ae0809f0c71cb52        2   \n",
       "..                         ...      ...   \n",
       "733   63b5681c49af1cbe651420bc        4   \n",
       "734   63b63938dbf229f3eb46d4a4        4   \n",
       "735   63cbfaf6ab54f6b8d8a054d7        4   \n",
       "736   63dae36f736faa53f7c68127        4   \n",
       "737   63e563e181e6c9cc44348a12        4   \n",
       "\n",
       "                                             section_x   variable  \\\n",
       "0    microeconomics is based on individual and hous...      Voice   \n",
       "1    economics is concerned with the well-being of ...      Voice   \n",
       "2    economics is concerned with the well-being of ...      Voice   \n",
       "3    economics is concerned with the well-being of ...      Voice   \n",
       "4    to understand why both microeconomic and macro...      Voice   \n",
       "..                                                 ...        ...   \n",
       "733  economies are complex systems, but we can use ...  Language    \n",
       "734  there are three common ways in which an econom...  Language    \n",
       "735  this introduction describes the different type...  Language    \n",
       "736  the modern economy is a complex system that in...  Language    \n",
       "737  this section was a learning experience. i was ...  Language    \n",
       "\n",
       "     qualtrics_ratings_yuning.csv  qualtrics_ratings_wes.csv  Unnamed: 6  \n",
       "0                               3                          2           1  \n",
       "1                               3                          2           1  \n",
       "2                               3                          2           1  \n",
       "3                               3                          2           1  \n",
       "4                               3                          2           1  \n",
       "..                            ...                        ...         ...  \n",
       "733                             3                          3           0  \n",
       "734                             3                          3           0  \n",
       "735                             3                          3           0  \n",
       "736                             3                          3           0  \n",
       "737                             3                          3           0  \n",
       "\n",
       "[738 rows x 7 columns]"
      ]
     },
     "execution_count": 5,
     "metadata": {},
     "output_type": "execute_result"
    }
   ],
   "source": [
    "dataframe = pd.read_csv('../data/qualtrics_data/qualtrics_ratings_long.csv', low_memory=False).dropna()\n",
    "dataframe"
   ]
  },
  {
   "cell_type": "code",
   "execution_count": 7,
   "id": "de5af701-61a3-4cc0-ae7c-2cb77babc6c1",
   "metadata": {
    "tags": []
   },
   "outputs": [
    {
     "name": "stdout",
     "output_type": "stream",
     "text": [
      "Voice,0.31998194742186625\n",
      "Organization,0.4849578045480899\n",
      "Language ,0.5313648115389848\n",
      "Main Points,0.5669272542817927\n",
      "Details,0.6111837802485285\n",
      "Wording,0.7296197558580049\n"
     ]
    },
    {
     "data": {
      "text/plain": [
       "'0.5758036759138156'"
      ]
     },
     "execution_count": 7,
     "metadata": {},
     "output_type": "execute_result"
    }
   ],
   "source": [
    "\n",
    "from sklearn.metrics import cohen_kappa_score\n",
    "import numpy as np\n",
    "\n",
    "for i in dataframe['variable'].unique():\n",
    "    wes_list = dataframe[dataframe['variable'] == i]['qualtrics_ratings_yuning.csv']\n",
    "    yuning_list = dataframe[dataframe['variable'] == i]['qualtrics_ratings_wes.csv']\n",
    "    print(i + ','+ str(cohen_kappa_score(np.array(yuning_list), np.array(wes_list), weights='quadratic')))\n",
    "\n",
    "wes_list = dataframe['qualtrics_ratings_wes.csv']\n",
    "yuning_list = dataframe['qualtrics_ratings_yuning.csv']\n",
    "str(cohen_kappa_score(np.array(yuning_list), np.array(wes_list), weights='quadratic'))"
   ]
  },
  {
   "cell_type": "code",
   "execution_count": null,
   "id": "b571b220-6daa-40c7-93af-d4d894d96b3a",
   "metadata": {},
   "outputs": [],
   "source": []
  },
  {
   "cell_type": "code",
   "execution_count": 10,
   "id": "3bd75caf-4603-4706-88a7-f62ca598f765",
   "metadata": {},
   "outputs": [],
   "source": [
    "dataframe['adjudicated_score'] = (dataframe['qualtrics_ratings_yuning.csv']+ dataframe['qualtrics_ratings_wes.csv'])/2"
   ]
  },
  {
   "cell_type": "code",
   "execution_count": 16,
   "id": "b8027805-4bcd-4fc2-ba11-12b162ee3767",
   "metadata": {},
   "outputs": [],
   "source": [
    "wide_df = dataframe.pivot(index=['id', 'summary', 'section_x'], columns='variable', values='adjudicated_score').reset_index()"
   ]
  },
  {
   "cell_type": "code",
   "execution_count": 18,
   "id": "32a5b973-3ba4-48a7-a399-9c8bfef51f25",
   "metadata": {
    "tags": []
   },
   "outputs": [],
   "source": [
    "wide_df.columns = ['id', 'section', 'summary', 'Details', 'Language ', 'Main Points',\n",
    "       'Organization', 'Voice', 'Wording']"
   ]
  },
  {
   "cell_type": "code",
   "execution_count": 20,
   "id": "d59a064c-da42-4295-b2ff-4b902e4188a6",
   "metadata": {
    "tags": []
   },
   "outputs": [],
   "source": [
    "wide_df.to_csv('../data/qualtrics_data/qualtrics_ratings_wide.csv')"
   ]
  },
  {
   "cell_type": "code",
   "execution_count": null,
   "id": "4f27f9d1-402b-4109-b9d0-3cf25711d522",
   "metadata": {},
   "outputs": [],
   "source": []
  },
  {
   "cell_type": "code",
   "execution_count": null,
   "id": "5cd017ca-a7b8-4f67-832d-ecc55bd78a13",
   "metadata": {},
   "outputs": [],
   "source": []
  },
  {
   "cell_type": "code",
   "execution_count": null,
   "id": "b23f01cc-82a0-4836-8409-c3b4e4b75163",
   "metadata": {},
   "outputs": [],
   "source": []
  },
  {
   "cell_type": "code",
   "execution_count": null,
   "id": "7701e13c-d03f-4fe5-808c-f3b95a2ad0b5",
   "metadata": {},
   "outputs": [],
   "source": []
  },
  {
   "cell_type": "code",
   "execution_count": null,
   "id": "7394ee68-5084-4e01-bc12-3b8bc24a4e01",
   "metadata": {},
   "outputs": [],
   "source": []
  },
  {
   "cell_type": "code",
   "execution_count": null,
   "id": "98c5c3a3-a1b6-4e45-828f-fa37ca4bbe14",
   "metadata": {},
   "outputs": [],
   "source": []
  }
 ],
 "metadata": {
  "kernelspec": {
   "display_name": "Python [conda env:WesleyEnv]",
   "language": "python",
   "name": "conda-env-WesleyEnv-py"
  },
  "language_info": {
   "codemirror_mode": {
    "name": "ipython",
    "version": 3
   },
   "file_extension": ".py",
   "mimetype": "text/x-python",
   "name": "python",
   "nbconvert_exporter": "python",
   "pygments_lexer": "ipython3",
   "version": "3.10.9"
  }
 },
 "nbformat": 4,
 "nbformat_minor": 5
}
